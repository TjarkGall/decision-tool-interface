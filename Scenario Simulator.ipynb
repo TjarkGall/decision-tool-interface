{
 "cells": [
  {
   "cell_type": "code",
   "execution_count": 1,
   "id": "5cb9793f",
   "metadata": {
    "scrolled": true
   },
   "outputs": [
    {
     "data": {
      "text/plain": [
       "'/Users/tjark/Documents/Python/interface.nosync'"
      ]
     },
     "execution_count": 1,
     "metadata": {},
     "output_type": "execute_result"
    }
   ],
   "source": [
    "pwd"
   ]
  },
  {
   "cell_type": "code",
   "execution_count": null,
   "id": "ab8a3543",
   "metadata": {},
   "outputs": [],
   "source": [
    "# %load Scenario \\Simulator.py\n",
    "import streamlit as st\n",
    "\n",
    "def main():\n",
    "    st.title(\"Future Scenarios Simulator\")\n",
    "\n",
    "    # Binary variable button input (checkbox)\n",
    "    binary_input = st.checkbox(\"Enable/Disable\")\n",
    "\n",
    "    # Slider input\n",
    "    slider_input = st.slider(\"Select a value\", min_value=0, max_value=100, value=50, step=1)\n",
    "\n",
    "    # Button to trigger processing\n",
    "    if st.button(\"Run\"):\n",
    "        st.write(f\"Binary input: {binary_input}\")\n",
    "        st.write(f\"Slider input: {slider_input}\")\n",
    "        # Add your Python code here to process the inputs and run your algorithms\n",
    "\n",
    "if __name__ == \"__main__\":\n",
    "    main()"
   ]
  },
  {
   "cell_type": "code",
   "execution_count": null,
   "id": "0e966f60",
   "metadata": {},
   "outputs": [],
   "source": [
    "#Write\n",
    "%%writefile Scenario \\Simulator.py"
   ]
  }
 ],
 "metadata": {
  "kernelspec": {
   "display_name": "Python 3 (ipykernel)",
   "language": "python",
   "name": "python3"
  },
  "language_info": {
   "codemirror_mode": {
    "name": "ipython",
    "version": 3
   },
   "file_extension": ".py",
   "mimetype": "text/x-python",
   "name": "python",
   "nbconvert_exporter": "python",
   "pygments_lexer": "ipython3",
   "version": "3.9.13"
  }
 },
 "nbformat": 4,
 "nbformat_minor": 5
}
