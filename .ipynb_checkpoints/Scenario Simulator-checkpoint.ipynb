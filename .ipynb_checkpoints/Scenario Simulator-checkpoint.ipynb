{
 "cells": [
  {
   "cell_type": "code",
   "execution_count": 1,
   "id": "5cb9793f",
   "metadata": {
    "scrolled": true
   },
   "outputs": [
    {
     "data": {
      "text/plain": [
       "'/Users/tjark/Documents/Python/interface.nosync'"
      ]
     },
     "execution_count": 1,
     "metadata": {},
     "output_type": "execute_result"
    }
   ],
   "source": [
    "pwd"
   ]
  },
  {
   "cell_type": "code",
   "execution_count": null,
   "id": "ab8a3543",
   "metadata": {},
   "outputs": [],
   "source": [
    "# %load Scenario \\Simulator.py\n",
    "import streamlit as st\n",
    "\n",
    "def main():\n",
    "    st.title(\"Future Scenarios Simulator\")\n",
    "\n",
    "    # Binary variable button input (checkbox)\n",
    "    binary_input = st.checkbox(\"Enable/Disable\")\n",
    "\n",
    "    # Slider input\n",
    "    slider_input = st.slider(\"Select a value\", min_value=0, max_value=100, value=50, step=1)\n",
    "\n",
    "    # Button to trigger processing\n",
    "    if st.button(\"Run\"):\n",
    "        st.write(f\"Binary input: {binary_input}\")\n",
    "        st.write(f\"Slider input: {slider_input}\")\n",
    "        # Add your Python code here to process the inputs and run your algorithms\n",
    "\n",
    "if __name__ == \"__main__\":\n",
    "    main()"
   ]
  },
  {
   "cell_type": "code",
   "execution_count": null,
   "id": "0e966f60",
   "metadata": {},
   "outputs": [],
   "source": [
    "#Write\n",
    "%%writefile Scenario \\Simulator.py"
   ]
  },
  {
   "cell_type": "code",
   "execution_count": null,
   "id": "79df6929",
   "metadata": {},
   "outputs": [],
   "source": [
    "\n",
    "# Loop over scenarios\n",
    "for i in range(no_scen):\n",
    "    scen_name = scen_names[i]\n",
    "    scen_image = scen_images[i]\n",
    "    st.write(f'## {scen_name}')\n",
    "    st.image(scen_image, width=300)\n",
    "    st.write('Define for each for persona how likely the different modes are.')\n"
   ]
  },
  {
   "cell_type": "code",
   "execution_count": 13,
   "id": "17182257",
   "metadata": {},
   "outputs": [],
   "source": [
    "mode_prep_s1 = [\n",
    "# Jacqueline\n",
    "    {'MoD':2,'Car':3,'Bike':0,'Walk':0,\n",
    "     'MM':0,'PT-MoD':3,'PT-Bike':1,'PT-Walk':3,\n",
    "     'PT-MM':1,'MoD-Walk':1,'MoD-MM':0,'Car-Walk':3,'MM-Walk':0},\n",
    "# Thierry\n",
    "    {'MoD':3,'Car':0,'Bike':0,'Walk':0,\n",
    "     'MM':0,'PT-MoD':3,'PT-Bike':0,'PT-Walk':2,\n",
    "     'PT-MM':0,'MoD-Walk':3,'MoD-MM':0,'Car-Walk':1,'MM-Walk':0},\n",
    "# Adrian\n",
    "    {'MoD':3,'Car':3,'Bike':1,'Walk':1,\n",
    "     'MM':2,'PT-MoD':2,'PT-Bike':0,'PT-Walk':0,\n",
    "     'PT-MM':1,'MoD-Walk':3,'MoD-MM':3,'Car-Walk':4,'MM-Walk':0},\n",
    "# Rui\n",
    "    {'MoD':3,'Car':0,'Bike':4,'Walk':4,\n",
    "     'MM':3,'PT-MoD':1,'PT-Bike':4,'PT-Walk':4,\n",
    "     'PT-MM':4,'MoD-Walk':1,'MoD-MM':0,'Car-Walk':0,'MM-Walk':4}\n",
    "]\n",
    "mode_prep_s2 = [\n",
    "# Jacqueline\n",
    "    {'MoD':0,'Car':2,'Bike':0,'Walk':0,\n",
    "     'MM':0,'PT-MoD':4,'PT-Bike':2,'PT-Walk':4,\n",
    "     'PT-MM':2,'MoD-Walk':1,'MoD-MM':0,'Car-Walk':1,'MM-Walk':0},\n",
    "# Thierry\n",
    "    {'MoD':2,'Car':0,'Bike':0,'Walk':0,\n",
    "     'MM':0,'PT-MoD':4,'PT-Bike':0,'PT-Walk':3,\n",
    "     'PT-MM':1,'MoD-Walk':3,'MoD-MM':1,'Car-Walk':1,'MM-Walk':0},\n",
    "# Adrian\n",
    "    {'MoD':4,'Car':3,'Bike':1,'Walk':1,\n",
    "     'MM':2,'PT-MoD':2,'PT-Bike':0,'PT-Walk':0,\n",
    "     'PT-MM':1,'MoD-Walk':3,'MoD-MM':4,'Car-Walk':4,'MM-Walk':0},\n",
    "# Rui\n",
    "    {'MoD':3,'Car':0,'Bike':4,'Walk':4,\n",
    "     'MM':3,'PT-MoD':1,'PT-Bike':4,'PT-Walk':4,\n",
    "     'PT-MM':4,'MoD-Walk':1,'MoD-MM':0,'Car-Walk':0,'MM-Walk':4}\n",
    "]\n",
    "mode_prep_s3 = [\n",
    "# Jacqueline\n",
    "    {'MoD':3,'Car':4,'Bike':0,'Walk':0,\n",
    "     'MM':0,'PT-MoD':0,'PT-Bike':0,'PT-Walk':1,\n",
    "     'PT-MM':0,'MoD-Walk':2,'MoD-MM':0,'Car-Walk':4,'MM-Walk':0},\n",
    "# Thierry\n",
    "    {'MoD':1,'Car':1,'Bike':0,'Walk':0,\n",
    "     'MM':0,'PT-MoD':2,'PT-Bike':0,'PT-Walk':1,\n",
    "     'PT-MM':0,'MoD-Walk':2,'MoD-MM':0,'Car-Walk':2,'MM-Walk':0},\n",
    "# Adrian\n",
    "    {'MoD':3,'Car':4,'Bike':0,'Walk':0,\n",
    "     'MM':0,'PT-MoD':1,'PT-Bike':0,'PT-Walk':0,\n",
    "     'PT-MM':0,'MoD-Walk':2,'MoD-MM':2,'Car-Walk':4,'MM-Walk':0},\n",
    "# Rui\n",
    "    {'MoD':0,'Car':0,'Bike':4,'Walk':3,\n",
    "     'MM':0,'PT-MoD':0,'PT-Bike':2,'PT-Walk':3,\n",
    "     'PT-MM':1,'MoD-Walk':0,'MoD-MM':0,'Car-Walk':0,'MM-Walk':1}\n",
    "]\n",
    "mode_prep_s4 = [\n",
    "# Jacqueline\n",
    "    {'MoD':1,'Car':3,'Bike':0,'Walk':0,\n",
    "     'MM':0,'PT-MoD':3,'PT-Bike':1,'PT-Walk':3,\n",
    "     'PT-MM':3,'MoD-Walk':1,'MoD-MM':0,'Car-Walk':4,'MM-Walk':0},\n",
    "# Thierry\n",
    "    {'MoD':1,'Car':1,'Bike':0,'Walk':0,\n",
    "     'MM':0,'PT-MoD':2,'PT-Bike':0,'PT-Walk':2,\n",
    "     'PT-MM':1,'MoD-Walk':3,'MoD-MM':1,'Car-Walk':2,'MM-Walk':0},\n",
    "# Adrian\n",
    "    {'MoD':4,'Car':4,'Bike':0,'Walk':0,\n",
    "     'MM':1,'PT-MoD':1,'PT-Bike':0,'PT-Walk':0,\n",
    "     'PT-MM':0,'MoD-Walk':3,'MoD-MM':2,'Car-Walk':4,'MM-Walk':0},\n",
    "# Rui\n",
    "    {'MoD':3,'Car':2,'Bike':4,'Walk':3,\n",
    "     'MM':2,'PT-MoD':2,'PT-Bike':3,'PT-Walk':3,\n",
    "     'PT-MM':2,'MoD-Walk':2,'MoD-MM':1,'Car-Walk':1,'MM-Walk':3}\n",
    "]"
   ]
  },
  {
   "cell_type": "code",
   "execution_count": null,
   "id": "b07b1a13",
   "metadata": {},
   "outputs": [],
   "source": [
    "\n",
    "\n",
    "\n",
    "if no_scen != len(scen_chars_prep):\n",
    "    scen_chars_prep = [dict.fromkeys(scen_chars_prep[0]) for_in range(no_scen)]\n"
   ]
  },
  {
   "cell_type": "code",
   "execution_count": null,
   "id": "479054fe",
   "metadata": {},
   "outputs": [],
   "source": [
    "\n",
    "scen_chars = pd.DataFrame(scen_chars_prep, index=scen_names)\n",
    "scen_chars.IM = scen_chars.IM.astype(\"category\")\n",
    "scen_chars.MU = scen_chars.MU.astype(\"category\")\n",
    "scen_chars.DE = scen_chars.DE.astype(\"category\")\n",
    "scen_chars.PT = scen_chars.PT.astype(\"category\")\n",
    "\n",
    "\n",
    "cols = [\"MoD\",\"Car\",\"Bike\",\"Walk\",\"MM\",\"PT-MoD\",\"PT-Bike\",\"PT-Walk\",\"PT-MM\",\"MoD-Walk\",\"MoD-MM\",\n",
    "        \"Car-Walk\",\"MM-Walk\"]\n",
    "for col in cols:\n",
    "    scen_chars[col] = scen_chars[col].cat.set_categories([\"1: low\", \"2: medium\", \"3: high\", \"4: very high\"])\n",
    "\n",
    "\n",
    "for col in cols:\n",
    "    categories = list(scen_chars[col].cat.categories)\n",
    "    for cat in [\"1: low\", \"2: medium\", \"3: high\", \"4: very high\"]:\n",
    "        if cat not in categories:\n",
    "            scen_chars[col] = scen_chars[col].cat.add_categories(cat)\n",
    "            \n",
    "scen_chars.IM = scen_chars.IM.cat.set_categories([\"1: low\", \"2: medium\", \"3: high\", \"4: very high\"])\n",
    "scen_chars.MU = scen_chars.MU.cat.set_categories([\"1: low\", \"2: medium\", \"3: high\", \"4: very high\"])\n",
    "scen_chars.DE = scen_chars.DE.cat.set_categories([\"1: low\", \"2: medium\", \"3: high\", \"4: very high\"])\n",
    "scen_chars.PT = scen_chars.PT.cat.set_categories([\"1: low\", \"2: medium\", \"3: high\", \"4: very high\"])\n",
    "\n",
    "scen_chars = st.experimental_data_editor(scen_chars)\n",
    "\n"
   ]
  }
 ],
 "metadata": {
  "kernelspec": {
   "display_name": "Python 3 (ipykernel)",
   "language": "python",
   "name": "python3"
  },
  "language_info": {
   "codemirror_mode": {
    "name": "ipython",
    "version": 3
   },
   "file_extension": ".py",
   "mimetype": "text/x-python",
   "name": "python",
   "nbconvert_exporter": "python",
   "pygments_lexer": "ipython3",
   "version": "3.9.13"
  }
 },
 "nbformat": 4,
 "nbformat_minor": 5
}
