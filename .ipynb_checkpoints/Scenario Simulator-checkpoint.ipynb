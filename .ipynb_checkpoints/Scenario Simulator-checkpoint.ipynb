{
 "cells": [
  {
   "cell_type": "code",
   "execution_count": 1,
   "id": "5cb9793f",
   "metadata": {
    "scrolled": true
   },
   "outputs": [
    {
     "data": {
      "text/plain": [
       "'/Users/tjark/Documents/Python/interface.nosync'"
      ]
     },
     "execution_count": 1,
     "metadata": {},
     "output_type": "execute_result"
    }
   ],
   "source": [
    "pwd"
   ]
  },
  {
   "cell_type": "code",
   "execution_count": 40,
   "id": "ab8a3543",
   "metadata": {},
   "outputs": [],
   "source": [
    "# %load Scenario \\Simulator.py\n",
    "import streamlit as st\n",
    "import pandas as pd\n",
    "import matplotlib.pyplot as plt\t\n",
    "import numpy as np"
   ]
  },
  {
   "cell_type": "code",
   "execution_count": null,
   "id": "0e966f60",
   "metadata": {},
   "outputs": [],
   "source": [
    "#Write\n",
    "%%writefile Scenario \\Simulator.py"
   ]
  },
  {
   "cell_type": "code",
   "execution_count": null,
   "id": "bf239ddf",
   "metadata": {},
   "outputs": [],
   "source": [
    "\n",
    "# Loop over scenarios\n",
    "for i in range(no_scen):\n",
    "    scen_name = scen_names[i]\n",
    "    scen_image = scen_images[i]\n",
    "    st.write(f'## {scen_name}')\n",
    "    st.image(scen_image, width=300)\n",
    "    st.write('Define for each for persona how likely the different modes are.')\n"
   ]
  },
  {
   "cell_type": "code",
   "execution_count": 121,
   "id": "2439ae4b",
   "metadata": {},
   "outputs": [],
   "source": [
    "mode_prep_s1 = [\n",
    "# Jacqueline\n",
    "    {'MoD':2,'Car':3,'Bike':0,'Walk':0,\n",
    "     'MM':0,'PT-MoD':3,'PT-Bike':1,'PT-Walk':3,\n",
    "     'PT-MM':1,'MoD-Walk':1,'MoD-MM':0,'Car-Walk':3,'MM-Walk':0},\n",
    "# Thierry\n",
    "    {'MoD':3,'Car':0,'Bike':0,'Walk':0,\n",
    "     'MM':0,'PT-MoD':3,'PT-Bike':0,'PT-Walk':2,\n",
    "     'PT-MM':0,'MoD-Walk':3,'MoD-MM':0,'Car-Walk':1,'MM-Walk':0},\n",
    "# Adrian\n",
    "    {'MoD':3,'Car':3,'Bike':1,'Walk':1,\n",
    "     'MM':2,'PT-MoD':2,'PT-Bike':0,'PT-Walk':0,\n",
    "     'PT-MM':1,'MoD-Walk':3,'MoD-MM':3,'Car-Walk':4,'MM-Walk':0},\n",
    "# Rui\n",
    "    {'MoD':3,'Car':0,'Bike':4,'Walk':4,\n",
    "     'MM':3,'PT-MoD':1,'PT-Bike':4,'PT-Walk':4,\n",
    "     'PT-MM':4,'MoD-Walk':1,'MoD-MM':0,'Car-Walk':0,'MM-Walk':4},\n",
    "# Persona n\n",
    "    {'MoD':0,'Car':0,'Bike':0,'Walk':0,\n",
    "     'MM':0,'PT-MoD':0,'PT-Bike':0,'PT-Walk':0,\n",
    "     'PT-MM':0,'MoD-Walk':0,'MoD-MM':0,'Car-Walk':0,'MM-Walk':0},\n",
    "# Persona n\n",
    "    {'MoD':0,'Car':0,'Bike':0,'Walk':0,\n",
    "     'MM':0,'PT-MoD':0,'PT-Bike':0,'PT-Walk':0,\n",
    "     'PT-MM':0,'MoD-Walk':0,'MoD-MM':0,'Car-Walk':0,'MM-Walk':0},\n",
    "# Persona n\n",
    "    {'MoD':0,'Car':0,'Bike':0,'Walk':0,\n",
    "     'MM':0,'PT-MoD':0,'PT-Bike':0,'PT-Walk':0,\n",
    "     'PT-MM':0,'MoD-Walk':0,'MoD-MM':0,'Car-Walk':0,'MM-Walk':0},\n",
    "# Persona n\n",
    "    {'MoD':0,'Car':0,'Bike':0,'Walk':0,\n",
    "     'MM':0,'PT-MoD':0,'PT-Bike':0,'PT-Walk':0,\n",
    "     'PT-MM':0,'MoD-Walk':0,'MoD-MM':0,'Car-Walk':0,'MM-Walk':0}\n",
    "]\n",
    "mode_prep_s2 = [\n",
    "# Jacqueline\n",
    "    {'MoD':0,'Car':2,'Bike':0,'Walk':0,\n",
    "     'MM':0,'PT-MoD':4,'PT-Bike':2,'PT-Walk':4,\n",
    "     'PT-MM':2,'MoD-Walk':1,'MoD-MM':0,'Car-Walk':1,'MM-Walk':0},\n",
    "# Thierry\n",
    "    {'MoD':2,'Car':0,'Bike':0,'Walk':0,\n",
    "     'MM':0,'PT-MoD':4,'PT-Bike':0,'PT-Walk':3,\n",
    "     'PT-MM':1,'MoD-Walk':3,'MoD-MM':1,'Car-Walk':1,'MM-Walk':0},\n",
    "# Adrian\n",
    "    {'MoD':4,'Car':3,'Bike':1,'Walk':1,\n",
    "     'MM':2,'PT-MoD':2,'PT-Bike':0,'PT-Walk':0,\n",
    "     'PT-MM':1,'MoD-Walk':3,'MoD-MM':4,'Car-Walk':4,'MM-Walk':0},\n",
    "# Rui\n",
    "    {'MoD':3,'Car':0,'Bike':4,'Walk':4,\n",
    "     'MM':3,'PT-MoD':1,'PT-Bike':4,'PT-Walk':4,\n",
    "     'PT-MM':4,'MoD-Walk':1,'MoD-MM':0,'Car-Walk':0,'MM-Walk':4},\n",
    "# Persona n\n",
    "    {'MoD':0,'Car':0,'Bike':0,'Walk':0,\n",
    "     'MM':0,'PT-MoD':0,'PT-Bike':0,'PT-Walk':0,\n",
    "     'PT-MM':0,'MoD-Walk':0,'MoD-MM':0,'Car-Walk':0,'MM-Walk':0},\n",
    "# Persona n\n",
    "    {'MoD':0,'Car':0,'Bike':0,'Walk':0,\n",
    "     'MM':0,'PT-MoD':0,'PT-Bike':0,'PT-Walk':0,\n",
    "     'PT-MM':0,'MoD-Walk':0,'MoD-MM':0,'Car-Walk':0,'MM-Walk':0},\n",
    "# Persona n\n",
    "    {'MoD':0,'Car':0,'Bike':0,'Walk':0,\n",
    "     'MM':0,'PT-MoD':0,'PT-Bike':0,'PT-Walk':0,\n",
    "     'PT-MM':0,'MoD-Walk':0,'MoD-MM':0,'Car-Walk':0,'MM-Walk':0},\n",
    "# Persona n\n",
    "    {'MoD':0,'Car':0,'Bike':0,'Walk':0,\n",
    "     'MM':0,'PT-MoD':0,'PT-Bike':0,'PT-Walk':0,\n",
    "     'PT-MM':0,'MoD-Walk':0,'MoD-MM':0,'Car-Walk':0,'MM-Walk':0}\n",
    "]\n",
    "mode_prep_s3 = [\n",
    "# Jacqueline\n",
    "    {'MoD':3,'Car':4,'Bike':0,'Walk':0,\n",
    "     'MM':0,'PT-MoD':0,'PT-Bike':0,'PT-Walk':1,\n",
    "     'PT-MM':0,'MoD-Walk':2,'MoD-MM':0,'Car-Walk':4,'MM-Walk':0},\n",
    "# Thierry\n",
    "    {'MoD':1,'Car':1,'Bike':0,'Walk':0,\n",
    "     'MM':0,'PT-MoD':2,'PT-Bike':0,'PT-Walk':1,\n",
    "     'PT-MM':0,'MoD-Walk':2,'MoD-MM':0,'Car-Walk':2,'MM-Walk':0},\n",
    "# Adrian\n",
    "    {'MoD':3,'Car':4,'Bike':0,'Walk':0,\n",
    "     'MM':0,'PT-MoD':1,'PT-Bike':0,'PT-Walk':0,\n",
    "     'PT-MM':0,'MoD-Walk':2,'MoD-MM':2,'Car-Walk':4,'MM-Walk':0},\n",
    "# Rui\n",
    "    {'MoD':0,'Car':0,'Bike':4,'Walk':3,\n",
    "     'MM':0,'PT-MoD':0,'PT-Bike':2,'PT-Walk':3,\n",
    "     'PT-MM':1,'MoD-Walk':0,'MoD-MM':0,'Car-Walk':0,'MM-Walk':1},\n",
    "# Persona n\n",
    "    {'MoD':0,'Car':0,'Bike':0,'Walk':0,\n",
    "     'MM':0,'PT-MoD':0,'PT-Bike':0,'PT-Walk':0,\n",
    "     'PT-MM':0,'MoD-Walk':0,'MoD-MM':0,'Car-Walk':0,'MM-Walk':0},\n",
    "# Persona n\n",
    "    {'MoD':0,'Car':0,'Bike':0,'Walk':0,\n",
    "     'MM':0,'PT-MoD':0,'PT-Bike':0,'PT-Walk':0,\n",
    "     'PT-MM':0,'MoD-Walk':0,'MoD-MM':0,'Car-Walk':0,'MM-Walk':0},\n",
    "# Persona n\n",
    "    {'MoD':0,'Car':0,'Bike':0,'Walk':0,\n",
    "     'MM':0,'PT-MoD':0,'PT-Bike':0,'PT-Walk':0,\n",
    "     'PT-MM':0,'MoD-Walk':0,'MoD-MM':0,'Car-Walk':0,'MM-Walk':0},\n",
    "# Persona n\n",
    "    {'MoD':0,'Car':0,'Bike':0,'Walk':0,\n",
    "     'MM':0,'PT-MoD':0,'PT-Bike':0,'PT-Walk':0,\n",
    "     'PT-MM':0,'MoD-Walk':0,'MoD-MM':0,'Car-Walk':0,'MM-Walk':0}\n",
    "]\n",
    "mode_prep_s4 = [\n",
    "# Jacqueline\n",
    "    {'MoD':1,'Car':3,'Bike':0,'Walk':0,\n",
    "     'MM':0,'PT-MoD':3,'PT-Bike':1,'PT-Walk':3,\n",
    "     'PT-MM':3,'MoD-Walk':1,'MoD-MM':0,'Car-Walk':4,'MM-Walk':0},\n",
    "# Thierry\n",
    "    {'MoD':1,'Car':1,'Bike':0,'Walk':0,\n",
    "     'MM':0,'PT-MoD':2,'PT-Bike':0,'PT-Walk':2,\n",
    "     'PT-MM':1,'MoD-Walk':3,'MoD-MM':1,'Car-Walk':2,'MM-Walk':0},\n",
    "# Adrian\n",
    "    {'MoD':4,'Car':4,'Bike':0,'Walk':0,\n",
    "     'MM':1,'PT-MoD':1,'PT-Bike':0,'PT-Walk':0,\n",
    "     'PT-MM':0,'MoD-Walk':3,'MoD-MM':2,'Car-Walk':4,'MM-Walk':0},\n",
    "# Rui\n",
    "    {'MoD':3,'Car':2,'Bike':4,'Walk':3,\n",
    "     'MM':2,'PT-MoD':2,'PT-Bike':3,'PT-Walk':3,\n",
    "     'PT-MM':2,'MoD-Walk':2,'MoD-MM':1,'Car-Walk':1,'MM-Walk':3},\n",
    "# Persona n\n",
    "    {'MoD':0,'Car':0,'Bike':0,'Walk':0,\n",
    "     'MM':0,'PT-MoD':0,'PT-Bike':0,'PT-Walk':0,\n",
    "     'PT-MM':0,'MoD-Walk':0,'MoD-MM':0,'Car-Walk':0,'MM-Walk':0},\n",
    "# Persona n\n",
    "    {'MoD':0,'Car':0,'Bike':0,'Walk':0,\n",
    "     'MM':0,'PT-MoD':0,'PT-Bike':0,'PT-Walk':0,\n",
    "     'PT-MM':0,'MoD-Walk':0,'MoD-MM':0,'Car-Walk':0,'MM-Walk':0},\n",
    "# Persona n\n",
    "    {'MoD':0,'Car':0,'Bike':0,'Walk':0,\n",
    "     'MM':0,'PT-MoD':0,'PT-Bike':0,'PT-Walk':0,\n",
    "     'PT-MM':0,'MoD-Walk':0,'MoD-MM':0,'Car-Walk':0,'MM-Walk':0},\n",
    "# Persona n\n",
    "    {'MoD':0,'Car':0,'Bike':0,'Walk':0,\n",
    "     'MM':0,'PT-MoD':0,'PT-Bike':0,'PT-Walk':0,\n",
    "     'PT-MM':0,'MoD-Walk':0,'MoD-MM':0,'Car-Walk':0,'MM-Walk':0}\n",
    "]\n",
    "mode_prep_s5 = [\n",
    "# Persona n\n",
    "    {'MoD':0,'Car':0,'Bike':0,'Walk':0,\n",
    "     'MM':0,'PT-MoD':0,'PT-Bike':0,'PT-Walk':0,\n",
    "     'PT-MM':0,'MoD-Walk':0,'MoD-MM':0,'Car-Walk':0,'MM-Walk':0},\n",
    "# Persona n\n",
    "    {'MoD':0,'Car':0,'Bike':0,'Walk':0,\n",
    "     'MM':0,'PT-MoD':0,'PT-Bike':0,'PT-Walk':0,\n",
    "     'PT-MM':0,'MoD-Walk':0,'MoD-MM':0,'Car-Walk':0,'MM-Walk':0},\n",
    "# Persona n\n",
    "    {'MoD':0,'Car':0,'Bike':0,'Walk':0,\n",
    "     'MM':0,'PT-MoD':0,'PT-Bike':0,'PT-Walk':0,\n",
    "     'PT-MM':0,'MoD-Walk':0,'MoD-MM':0,'Car-Walk':0,'MM-Walk':0},\n",
    "# Persona n\n",
    "    {'MoD':0,'Car':0,'Bike':0,'Walk':0,\n",
    "     'MM':0,'PT-MoD':0,'PT-Bike':0,'PT-Walk':0,\n",
    "     'PT-MM':0,'MoD-Walk':0,'MoD-MM':0,'Car-Walk':0,'MM-Walk':0},\n",
    "# Persona n\n",
    "    {'MoD':0,'Car':0,'Bike':0,'Walk':0,\n",
    "     'MM':0,'PT-MoD':0,'PT-Bike':0,'PT-Walk':0,\n",
    "     'PT-MM':0,'MoD-Walk':0,'MoD-MM':0,'Car-Walk':0,'MM-Walk':0},\n",
    "# Persona n\n",
    "    {'MoD':0,'Car':0,'Bike':0,'Walk':0,\n",
    "     'MM':0,'PT-MoD':0,'PT-Bike':0,'PT-Walk':0,\n",
    "     'PT-MM':0,'MoD-Walk':0,'MoD-MM':0,'Car-Walk':0,'MM-Walk':0},\n",
    "# Persona n\n",
    "    {'MoD':0,'Car':0,'Bike':0,'Walk':0,\n",
    "     'MM':0,'PT-MoD':0,'PT-Bike':0,'PT-Walk':0,\n",
    "     'PT-MM':0,'MoD-Walk':0,'MoD-MM':0,'Car-Walk':0,'MM-Walk':0},\n",
    "# Persona n\n",
    "    {'MoD':0,'Car':0,'Bike':0,'Walk':0,\n",
    "     'MM':0,'PT-MoD':0,'PT-Bike':0,'PT-Walk':0,\n",
    "     'PT-MM':0,'MoD-Walk':0,'MoD-MM':0,'Car-Walk':0,'MM-Walk':0}\n",
    "]\n",
    "mode_prep_s6 = mode_prep_s5\n",
    "mode_prep_s7 = mode_prep_s5\n",
    "mode_prep_s8 = mode_prep_s5"
   ]
  },
  {
   "cell_type": "code",
   "execution_count": 144,
   "id": "dfe8cb1d",
   "metadata": {},
   "outputs": [],
   "source": [
    "mode_prep = [mode_prep_s1,mode_prep_s2,mode_prep_s3,mode_prep_s4,mode_prep_s5,mode_prep_s6,mode_prep_s7,mode_prep_s8]"
   ]
  },
  {
   "cell_type": "code",
   "execution_count": 145,
   "id": "05f223f9",
   "metadata": {},
   "outputs": [
    {
     "data": {
      "text/plain": [
       "{'MoD': 2,\n",
       " 'Car': 0,\n",
       " 'Bike': 0,\n",
       " 'Walk': 0,\n",
       " 'MM': 0,\n",
       " 'PT-MoD': 4,\n",
       " 'PT-Bike': 0,\n",
       " 'PT-Walk': 3,\n",
       " 'PT-MM': 1,\n",
       " 'MoD-Walk': 3,\n",
       " 'MoD-MM': 1,\n",
       " 'Car-Walk': 1,\n",
       " 'MM-Walk': 0}"
      ]
     },
     "execution_count": 145,
     "metadata": {},
     "output_type": "execute_result"
    }
   ],
   "source": [
    "mode_prep[1][1]"
   ]
  },
  {
   "cell_type": "code",
   "execution_count": 122,
   "id": "42956ec2",
   "metadata": {},
   "outputs": [],
   "source": [
    "no_scen = 4\n",
    "no_pers = 3"
   ]
  },
  {
   "cell_type": "code",
   "execution_count": 123,
   "id": "83307e6a",
   "metadata": {},
   "outputs": [],
   "source": []
  },
  {
   "cell_type": "code",
   "execution_count": 124,
   "id": "592a48f9",
   "metadata": {},
   "outputs": [
    {
     "data": {
      "text/plain": [
       "'mode_prep_s1'"
      ]
     },
     "execution_count": 124,
     "metadata": {},
     "output_type": "execute_result"
    }
   ],
   "source": [
    "mode_prep[0]"
   ]
  },
  {
   "cell_type": "code",
   "execution_count": null,
   "id": "0a8762ca",
   "metadata": {},
   "outputs": [],
   "source": []
  },
  {
   "cell_type": "code",
   "execution_count": 125,
   "id": "53e984c1",
   "metadata": {},
   "outputs": [],
   "source": [
    "scen = [4]"
   ]
  },
  {
   "cell_type": "code",
   "execution_count": 149,
   "id": "4e1ce1f9",
   "metadata": {},
   "outputs": [],
   "source": [
    "import pandas as pd"
   ]
  },
  {
   "cell_type": "code",
   "execution_count": 151,
   "id": "a5e0c240",
   "metadata": {},
   "outputs": [],
   "source": [
    "pers_names = [\"a\",\"b\",\"c\",\"d\",\"e\",\"f\",\"g\",\"h\"]"
   ]
  },
  {
   "cell_type": "code",
   "execution_count": null,
   "id": "a479a9bf",
   "metadata": {},
   "outputs": [],
   "source": []
  },
  {
   "cell_type": "code",
   "execution_count": null,
   "id": "4f48f654",
   "metadata": {},
   "outputs": [],
   "source": []
  },
  {
   "cell_type": "code",
   "execution_count": null,
   "id": "c340796e",
   "metadata": {},
   "outputs": [],
   "source": []
  },
  {
   "cell_type": "code",
   "execution_count": null,
   "id": "534814f9",
   "metadata": {},
   "outputs": [],
   "source": []
  },
  {
   "cell_type": "code",
   "execution_count": null,
   "id": "15a811dc",
   "metadata": {},
   "outputs": [],
   "source": []
  },
  {
   "cell_type": "code",
   "execution_count": 9,
   "id": "c57e008d",
   "metadata": {},
   "outputs": [],
   "source": [
    "mode_prep_s1 = [\n",
    "# Jacqueline\n",
    "    {'MoD':2,'Car':3,'Bike':0,'Walk':0,\n",
    "     'MM':0,'PT-MoD':3,'PT-Bike':1,'PT-Walk':3,\n",
    "     'PT-MM':1,'MoD-Walk':1,'MoD-MM':0,'Car-Walk':3,'MM-Walk':0},\n",
    "# Thierry\n",
    "    {'MoD':3,'Car':0,'Bike':0,'Walk':0,\n",
    "     'MM':0,'PT-MoD':3,'PT-Bike':0,'PT-Walk':2,\n",
    "     'PT-MM':0,'MoD-Walk':3,'MoD-MM':0,'Car-Walk':1,'MM-Walk':0},\n",
    "# Adrian\n",
    "    {'MoD':3,'Car':3,'Bike':1,'Walk':1,\n",
    "     'MM':2,'PT-MoD':2,'PT-Bike':0,'PT-Walk':0,\n",
    "     'PT-MM':1,'MoD-Walk':3,'MoD-MM':3,'Car-Walk':4,'MM-Walk':0},\n",
    "# Rui\n",
    "    {'MoD':3,'Car':0,'Bike':4,'Walk':4,\n",
    "     'MM':3,'PT-MoD':1,'PT-Bike':4,'PT-Walk':4,\n",
    "     'PT-MM':4,'MoD-Walk':1,'MoD-MM':0,'Car-Walk':0,'MM-Walk':4},\n",
    "# Persona n\n",
    "    {'MoD':0,'Car':0,'Bike':0,'Walk':0,\n",
    "     'MM':0,'PT-MoD':0,'PT-Bike':0,'PT-Walk':0,\n",
    "     'PT-MM':0,'MoD-Walk':0,'MoD-MM':0,'Car-Walk':0,'MM-Walk':0},\n",
    "# Persona n\n",
    "    {'MoD':0,'Car':0,'Bike':0,'Walk':0,\n",
    "     'MM':0,'PT-MoD':0,'PT-Bike':0,'PT-Walk':0,\n",
    "     'PT-MM':0,'MoD-Walk':0,'MoD-MM':0,'Car-Walk':0,'MM-Walk':0},\n",
    "# Persona n\n",
    "    {'MoD':0,'Car':0,'Bike':0,'Walk':0,\n",
    "     'MM':0,'PT-MoD':0,'PT-Bike':0,'PT-Walk':0,\n",
    "     'PT-MM':0,'MoD-Walk':0,'MoD-MM':0,'Car-Walk':0,'MM-Walk':0},\n",
    "# Persona n\n",
    "    {'MoD':0,'Car':0,'Bike':0,'Walk':0,\n",
    "     'MM':0,'PT-MoD':0,'PT-Bike':0,'PT-Walk':0,\n",
    "     'PT-MM':0,'MoD-Walk':0,'MoD-MM':0,'Car-Walk':0,'MM-Walk':0}\n",
    "]\n",
    "mode_prep_s2 = [\n",
    "# Jacqueline\n",
    "    {'MoD':0,'Car':2,'Bike':0,'Walk':0,\n",
    "     'MM':0,'PT-MoD':4,'PT-Bike':2,'PT-Walk':4,\n",
    "     'PT-MM':2,'MoD-Walk':1,'MoD-MM':0,'Car-Walk':1,'MM-Walk':0},\n",
    "# Thierry\n",
    "    {'MoD':2,'Car':0,'Bike':0,'Walk':0,\n",
    "     'MM':0,'PT-MoD':4,'PT-Bike':0,'PT-Walk':3,\n",
    "     'PT-MM':1,'MoD-Walk':3,'MoD-MM':1,'Car-Walk':1,'MM-Walk':0},\n",
    "# Adrian\n",
    "    {'MoD':4,'Car':3,'Bike':1,'Walk':1,\n",
    "     'MM':2,'PT-MoD':2,'PT-Bike':0,'PT-Walk':0,\n",
    "     'PT-MM':1,'MoD-Walk':3,'MoD-MM':4,'Car-Walk':4,'MM-Walk':0},\n",
    "# Rui\n",
    "    {'MoD':3,'Car':0,'Bike':4,'Walk':4,\n",
    "     'MM':3,'PT-MoD':1,'PT-Bike':4,'PT-Walk':4,\n",
    "     'PT-MM':4,'MoD-Walk':1,'MoD-MM':0,'Car-Walk':0,'MM-Walk':4},\n",
    "# Persona n\n",
    "    {'MoD':0,'Car':0,'Bike':0,'Walk':0,\n",
    "     'MM':0,'PT-MoD':0,'PT-Bike':0,'PT-Walk':0,\n",
    "     'PT-MM':0,'MoD-Walk':0,'MoD-MM':0,'Car-Walk':0,'MM-Walk':0},\n",
    "# Persona n\n",
    "    {'MoD':0,'Car':0,'Bike':0,'Walk':0,\n",
    "     'MM':0,'PT-MoD':0,'PT-Bike':0,'PT-Walk':0,\n",
    "     'PT-MM':0,'MoD-Walk':0,'MoD-MM':0,'Car-Walk':0,'MM-Walk':0},\n",
    "# Persona n\n",
    "    {'MoD':0,'Car':0,'Bike':0,'Walk':0,\n",
    "     'MM':0,'PT-MoD':0,'PT-Bike':0,'PT-Walk':0,\n",
    "     'PT-MM':0,'MoD-Walk':0,'MoD-MM':0,'Car-Walk':0,'MM-Walk':0},\n",
    "# Persona n\n",
    "    {'MoD':0,'Car':0,'Bike':0,'Walk':0,\n",
    "     'MM':0,'PT-MoD':0,'PT-Bike':0,'PT-Walk':0,\n",
    "     'PT-MM':0,'MoD-Walk':0,'MoD-MM':0,'Car-Walk':0,'MM-Walk':0}\n",
    "]\n",
    "mode_prep_s3 = [\n",
    "# Jacqueline\n",
    "    {'MoD':3,'Car':4,'Bike':0,'Walk':0,\n",
    "     'MM':0,'PT-MoD':0,'PT-Bike':0,'PT-Walk':1,\n",
    "     'PT-MM':0,'MoD-Walk':2,'MoD-MM':0,'Car-Walk':4,'MM-Walk':0},\n",
    "# Thierry\n",
    "    {'MoD':1,'Car':1,'Bike':0,'Walk':0,\n",
    "     'MM':0,'PT-MoD':2,'PT-Bike':0,'PT-Walk':1,\n",
    "     'PT-MM':0,'MoD-Walk':2,'MoD-MM':0,'Car-Walk':2,'MM-Walk':0},\n",
    "# Adrian\n",
    "    {'MoD':3,'Car':4,'Bike':0,'Walk':0,\n",
    "     'MM':0,'PT-MoD':1,'PT-Bike':0,'PT-Walk':0,\n",
    "     'PT-MM':0,'MoD-Walk':2,'MoD-MM':2,'Car-Walk':4,'MM-Walk':0},\n",
    "# Rui\n",
    "    {'MoD':0,'Car':0,'Bike':4,'Walk':3,\n",
    "     'MM':0,'PT-MoD':0,'PT-Bike':2,'PT-Walk':3,\n",
    "     'PT-MM':1,'MoD-Walk':0,'MoD-MM':0,'Car-Walk':0,'MM-Walk':1},\n",
    "# Persona n\n",
    "    {'MoD':0,'Car':0,'Bike':0,'Walk':0,\n",
    "     'MM':0,'PT-MoD':0,'PT-Bike':0,'PT-Walk':0,\n",
    "     'PT-MM':0,'MoD-Walk':0,'MoD-MM':0,'Car-Walk':0,'MM-Walk':0},\n",
    "# Persona n\n",
    "    {'MoD':0,'Car':0,'Bike':0,'Walk':0,\n",
    "     'MM':0,'PT-MoD':0,'PT-Bike':0,'PT-Walk':0,\n",
    "     'PT-MM':0,'MoD-Walk':0,'MoD-MM':0,'Car-Walk':0,'MM-Walk':0},\n",
    "# Persona n\n",
    "    {'MoD':0,'Car':0,'Bike':0,'Walk':0,\n",
    "     'MM':0,'PT-MoD':0,'PT-Bike':0,'PT-Walk':0,\n",
    "     'PT-MM':0,'MoD-Walk':0,'MoD-MM':0,'Car-Walk':0,'MM-Walk':0},\n",
    "# Persona n\n",
    "    {'MoD':0,'Car':0,'Bike':0,'Walk':0,\n",
    "     'MM':0,'PT-MoD':0,'PT-Bike':0,'PT-Walk':0,\n",
    "     'PT-MM':0,'MoD-Walk':0,'MoD-MM':0,'Car-Walk':0,'MM-Walk':0}\n",
    "]\n",
    "mode_prep_s4 = [\n",
    "# Jacqueline\n",
    "    {'MoD':1,'Car':3,'Bike':0,'Walk':0,\n",
    "     'MM':0,'PT-MoD':3,'PT-Bike':1,'PT-Walk':3,\n",
    "     'PT-MM':3,'MoD-Walk':1,'MoD-MM':0,'Car-Walk':4,'MM-Walk':0},\n",
    "# Thierry\n",
    "    {'MoD':1,'Car':1,'Bike':0,'Walk':0,\n",
    "     'MM':0,'PT-MoD':2,'PT-Bike':0,'PT-Walk':2,\n",
    "     'PT-MM':1,'MoD-Walk':3,'MoD-MM':1,'Car-Walk':2,'MM-Walk':0},\n",
    "# Adrian\n",
    "    {'MoD':4,'Car':4,'Bike':0,'Walk':0,\n",
    "     'MM':1,'PT-MoD':1,'PT-Bike':0,'PT-Walk':0,\n",
    "     'PT-MM':0,'MoD-Walk':3,'MoD-MM':2,'Car-Walk':4,'MM-Walk':0},\n",
    "# Rui\n",
    "    {'MoD':3,'Car':2,'Bike':4,'Walk':3,\n",
    "     'MM':2,'PT-MoD':2,'PT-Bike':3,'PT-Walk':3,\n",
    "     'PT-MM':2,'MoD-Walk':2,'MoD-MM':1,'Car-Walk':1,'MM-Walk':3},\n",
    "# Persona n\n",
    "    {'MoD':0,'Car':0,'Bike':0,'Walk':0,\n",
    "     'MM':0,'PT-MoD':0,'PT-Bike':0,'PT-Walk':0,\n",
    "     'PT-MM':0,'MoD-Walk':0,'MoD-MM':0,'Car-Walk':0,'MM-Walk':0},\n",
    "# Persona n\n",
    "    {'MoD':0,'Car':0,'Bike':0,'Walk':0,\n",
    "     'MM':0,'PT-MoD':0,'PT-Bike':0,'PT-Walk':0,\n",
    "     'PT-MM':0,'MoD-Walk':0,'MoD-MM':0,'Car-Walk':0,'MM-Walk':0},\n",
    "# Persona n\n",
    "    {'MoD':0,'Car':0,'Bike':0,'Walk':0,\n",
    "     'MM':0,'PT-MoD':0,'PT-Bike':0,'PT-Walk':0,\n",
    "     'PT-MM':0,'MoD-Walk':0,'MoD-MM':0,'Car-Walk':0,'MM-Walk':0},\n",
    "# Persona n\n",
    "    {'MoD':0,'Car':0,'Bike':0,'Walk':0,\n",
    "     'MM':0,'PT-MoD':0,'PT-Bike':0,'PT-Walk':0,\n",
    "     'PT-MM':0,'MoD-Walk':0,'MoD-MM':0,'Car-Walk':0,'MM-Walk':0}\n",
    "]\n",
    "mode_prep_s5 = [\n",
    "# Persona n\n",
    "    {'MoD':0,'Car':0,'Bike':0,'Walk':0,\n",
    "     'MM':0,'PT-MoD':0,'PT-Bike':0,'PT-Walk':0,\n",
    "     'PT-MM':0,'MoD-Walk':0,'MoD-MM':0,'Car-Walk':0,'MM-Walk':0},\n",
    "# Persona n\n",
    "    {'MoD':0,'Car':0,'Bike':0,'Walk':0,\n",
    "     'MM':0,'PT-MoD':0,'PT-Bike':0,'PT-Walk':0,\n",
    "     'PT-MM':0,'MoD-Walk':0,'MoD-MM':0,'Car-Walk':0,'MM-Walk':0},\n",
    "# Persona n\n",
    "    {'MoD':0,'Car':0,'Bike':0,'Walk':0,\n",
    "     'MM':0,'PT-MoD':0,'PT-Bike':0,'PT-Walk':0,\n",
    "     'PT-MM':0,'MoD-Walk':0,'MoD-MM':0,'Car-Walk':0,'MM-Walk':0},\n",
    "# Persona n\n",
    "    {'MoD':0,'Car':0,'Bike':0,'Walk':0,\n",
    "     'MM':0,'PT-MoD':0,'PT-Bike':0,'PT-Walk':0,\n",
    "     'PT-MM':0,'MoD-Walk':0,'MoD-MM':0,'Car-Walk':0,'MM-Walk':0},\n",
    "# Persona n\n",
    "    {'MoD':0,'Car':0,'Bike':0,'Walk':0,\n",
    "     'MM':0,'PT-MoD':0,'PT-Bike':0,'PT-Walk':0,\n",
    "     'PT-MM':0,'MoD-Walk':0,'MoD-MM':0,'Car-Walk':0,'MM-Walk':0},\n",
    "# Persona n\n",
    "    {'MoD':0,'Car':0,'Bike':0,'Walk':0,\n",
    "     'MM':0,'PT-MoD':0,'PT-Bike':0,'PT-Walk':0,\n",
    "     'PT-MM':0,'MoD-Walk':0,'MoD-MM':0,'Car-Walk':0,'MM-Walk':0},\n",
    "# Persona n\n",
    "    {'MoD':0,'Car':0,'Bike':0,'Walk':0,\n",
    "     'MM':0,'PT-MoD':0,'PT-Bike':0,'PT-Walk':0,\n",
    "     'PT-MM':0,'MoD-Walk':0,'MoD-MM':0,'Car-Walk':0,'MM-Walk':0},\n",
    "# Persona n\n",
    "    {'MoD':0,'Car':0,'Bike':0,'Walk':0,\n",
    "     'MM':0,'PT-MoD':0,'PT-Bike':0,'PT-Walk':0,\n",
    "     'PT-MM':0,'MoD-Walk':0,'MoD-MM':0,'Car-Walk':0,'MM-Walk':0}\n",
    "]\n",
    "mode_prep_s6 = mode_prep_s5\n",
    "mode_prep_s7 = mode_prep_s5\n",
    "mode_prep_s8 = mode_prep_s5"
   ]
  },
  {
   "cell_type": "code",
   "execution_count": 10,
   "id": "d3e0bd7d",
   "metadata": {},
   "outputs": [],
   "source": [
    "mode_prep = {0:mode_prep_s1,1:mode_prep_s2,2:mode_prep_s3,3:mode_prep_s4,\n",
    "             4:mode_prep_s5,5:mode_prep_s6,6:mode_prep_s7,7:mode_prep_s8} "
   ]
  },
  {
   "cell_type": "code",
   "execution_count": 19,
   "id": "ee6a73dc",
   "metadata": {},
   "outputs": [],
   "source": [
    "for i in range(no_scen):\n",
    "    mode_prep_sel = mode_prep[i][0:no_pers]\n",
    "    mode_pref = pd.DataFrame(mode_prep_sel, index=pers_names[:no_pers])"
   ]
  },
  {
   "cell_type": "code",
   "execution_count": 20,
   "id": "c1bb5c3d",
   "metadata": {},
   "outputs": [],
   "source": [
    "cols = [\"MoD\",\"Car\",\"Bike\",\"Walk\",\"MM\",\"PT-MoD\",\"PT-Bike\",\"PT-Walk\",\"PT-MM\",\"MoD-Walk\",\"MoD-MM\",\n",
    "        \"Car-Walk\",\"MM-Walk\"]\n",
    "for col in cols:\n",
    "    mode_pref[col] = mode_pref[col].astype(\"category\")\n",
    "    mode_pref[col] = mode_pref[col].cat.set_categories([0,1,2,3])\n",
    "    categories = list(mode_pref[col].cat.categories)\n",
    "    for cat in [0,1,2,3,4]:\n",
    "        if cat not in categories:\n",
    "            mode_pref[col] = mode_pref[col].cat.add_categories(cat)"
   ]
  },
  {
   "cell_type": "code",
   "execution_count": 21,
   "id": "91f11ba6",
   "metadata": {},
   "outputs": [
    {
     "name": "stderr",
     "output_type": "stream",
     "text": [
      "2023-03-26 09:27:47.288 \n",
      "  \u001b[33m\u001b[1mWarning:\u001b[0m to view this Streamlit app on a browser, run it with the following\n",
      "  command:\n",
      "\n",
      "    streamlit run /Users/tjark/opt/anaconda3/lib/python3.9/site-packages/ipykernel_launcher.py [ARGUMENTS]\n"
     ]
    }
   ],
   "source": [
    "mode_pref = st.experimental_data_editor(mode_pref)"
   ]
  },
  {
   "cell_type": "code",
   "execution_count": 22,
   "id": "d969d539",
   "metadata": {},
   "outputs": [],
   "source": [
    " mode_pref = pd.DataFrame(mode_prep[i][0:no_pers], index=(pers_names[:no_pers]))"
   ]
  },
  {
   "cell_type": "code",
   "execution_count": 23,
   "id": "a1edb820",
   "metadata": {},
   "outputs": [
    {
     "data": {
      "text/html": [
       "<div>\n",
       "<style scoped>\n",
       "    .dataframe tbody tr th:only-of-type {\n",
       "        vertical-align: middle;\n",
       "    }\n",
       "\n",
       "    .dataframe tbody tr th {\n",
       "        vertical-align: top;\n",
       "    }\n",
       "\n",
       "    .dataframe thead th {\n",
       "        text-align: right;\n",
       "    }\n",
       "</style>\n",
       "<table border=\"1\" class=\"dataframe\">\n",
       "  <thead>\n",
       "    <tr style=\"text-align: right;\">\n",
       "      <th></th>\n",
       "      <th>MoD</th>\n",
       "      <th>Car</th>\n",
       "      <th>Bike</th>\n",
       "      <th>Walk</th>\n",
       "      <th>MM</th>\n",
       "      <th>PT-MoD</th>\n",
       "      <th>PT-Bike</th>\n",
       "      <th>PT-Walk</th>\n",
       "      <th>PT-MM</th>\n",
       "      <th>MoD-Walk</th>\n",
       "      <th>MoD-MM</th>\n",
       "      <th>Car-Walk</th>\n",
       "      <th>MM-Walk</th>\n",
       "    </tr>\n",
       "  </thead>\n",
       "  <tbody>\n",
       "    <tr>\n",
       "      <th>A</th>\n",
       "      <td>1</td>\n",
       "      <td>3</td>\n",
       "      <td>0</td>\n",
       "      <td>0</td>\n",
       "      <td>0</td>\n",
       "      <td>3</td>\n",
       "      <td>1</td>\n",
       "      <td>3</td>\n",
       "      <td>3</td>\n",
       "      <td>1</td>\n",
       "      <td>0</td>\n",
       "      <td>4</td>\n",
       "      <td>0</td>\n",
       "    </tr>\n",
       "    <tr>\n",
       "      <th>B</th>\n",
       "      <td>1</td>\n",
       "      <td>1</td>\n",
       "      <td>0</td>\n",
       "      <td>0</td>\n",
       "      <td>0</td>\n",
       "      <td>2</td>\n",
       "      <td>0</td>\n",
       "      <td>2</td>\n",
       "      <td>1</td>\n",
       "      <td>3</td>\n",
       "      <td>1</td>\n",
       "      <td>2</td>\n",
       "      <td>0</td>\n",
       "    </tr>\n",
       "    <tr>\n",
       "      <th>C</th>\n",
       "      <td>4</td>\n",
       "      <td>4</td>\n",
       "      <td>0</td>\n",
       "      <td>0</td>\n",
       "      <td>1</td>\n",
       "      <td>1</td>\n",
       "      <td>0</td>\n",
       "      <td>0</td>\n",
       "      <td>0</td>\n",
       "      <td>3</td>\n",
       "      <td>2</td>\n",
       "      <td>4</td>\n",
       "      <td>0</td>\n",
       "    </tr>\n",
       "    <tr>\n",
       "      <th>D</th>\n",
       "      <td>3</td>\n",
       "      <td>2</td>\n",
       "      <td>4</td>\n",
       "      <td>3</td>\n",
       "      <td>2</td>\n",
       "      <td>2</td>\n",
       "      <td>3</td>\n",
       "      <td>3</td>\n",
       "      <td>2</td>\n",
       "      <td>2</td>\n",
       "      <td>1</td>\n",
       "      <td>1</td>\n",
       "      <td>3</td>\n",
       "    </tr>\n",
       "  </tbody>\n",
       "</table>\n",
       "</div>"
      ],
      "text/plain": [
       "   MoD  Car  Bike  Walk  MM  PT-MoD  PT-Bike  PT-Walk  PT-MM  MoD-Walk  \\\n",
       "A    1    3     0     0   0       3        1        3      3         1   \n",
       "B    1    1     0     0   0       2        0        2      1         3   \n",
       "C    4    4     0     0   1       1        0        0      0         3   \n",
       "D    3    2     4     3   2       2        3        3      2         2   \n",
       "\n",
       "   MoD-MM  Car-Walk  MM-Walk  \n",
       "A       0         4        0  \n",
       "B       1         2        0  \n",
       "C       2         4        0  \n",
       "D       1         1        3  "
      ]
     },
     "execution_count": 23,
     "metadata": {},
     "output_type": "execute_result"
    }
   ],
   "source": [
    " mode_pref"
   ]
  },
  {
   "cell_type": "code",
   "execution_count": 18,
   "id": "5974a232",
   "metadata": {},
   "outputs": [],
   "source": [
    "# Temporary value \n",
    "no_scen = 4\n",
    "no_pers = 4\n",
    "pers_names=['A','B','C','D']\n",
    "modes = [\"MoD\", \"Car\", \"Bike\", \"Walk\", \"MM\", \"PT-MoD\", \"PT-Bike\", \"PT-Walk\", \"PT-MM\", \"MoD-Walk\", \"MoD-MM\", \"Car-Walk\", \"MM-Walk\"]\n"
   ]
  },
  {
   "cell_type": "code",
   "execution_count": 36,
   "id": "367d5f4b",
   "metadata": {},
   "outputs": [],
   "source": [
    "for mode in modes:\n",
    "    likelihood = mode_pref.loc[pers_names[i], mode]\n",
    "    km.append(likelihood * distance[i])\n",
    "km_per_mode.append(km)"
   ]
  },
  {
   "cell_type": "code",
   "execution_count": 37,
   "id": "f94f0615",
   "metadata": {},
   "outputs": [
    {
     "data": {
      "text/plain": [
       "[[10, 30, 0, 0, 0, 30, 10, 30, 30, 10, 0, 40, 0]]"
      ]
     },
     "execution_count": 37,
     "metadata": {},
     "output_type": "execute_result"
    }
   ],
   "source": [
    "km_per_mode"
   ]
  },
  {
   "cell_type": "code",
   "execution_count": 62,
   "id": "26655ef9",
   "metadata": {},
   "outputs": [
    {
     "data": {
      "image/png": "[encoded data removed]",
      "text/plain": [
       "<Figure size 720x432 with 1 Axes>"
      ]
     },
     "metadata": {
      "needs_background": "light"
     },
     "output_type": "display_data"
    }
   ],
   "source": [
    "# Define persona characteristics\n",
    "distance = [10, 15, 20, 25, 30, 35, 40, 45]\n",
    "\n",
    "# Calculate kilometers per mode for each persona in scenario 1\n",
    "km_per_mode = []\n",
    "for i in range(no_pers):\n",
    "    km = []\n",
    "    for mode in modes:\n",
    "        likelihood = mode_pref.loc[pers_names[i], mode]\n",
    "        km.append(likelihood * distance[i])\n",
    "    km_per_mode.append(km)\n",
    "\n",
    "# Plot the bar chart\n",
    "fig, ax = plt.subplots(figsize=(10,6))\n",
    "colors = [\"#1f77b4\", \"#ff7f0e\", \"#2ca02c\", \"#d62728\", \"#9467bd\",\"#1f77b4\", \"#ff7f0e\", \"#2ca02c\"]\n",
    "\n",
    "for i in range(no_pers):\n",
    "    ax.bar(np.arange(no_pers)*len(modes)+i, [km[i] for km in km_per_mode], color=colors[i], width=0.8, alpha=0.8, label=pers_names[i])\n",
    "ax.set_xticks(np.arange(len(modes))*no_pers)\n",
    "ax.set_xticklabels(modes, fontsize=14)\n",
    "ax.set_yticks(np.arange(0, 150, 25))\n",
    "ax.set_yticklabels(np.arange(0, 150, 25), fontsize=14)\n",
    "ax.set_xlabel(\"Persona\", fontsize=16)\n",
    "ax.set_ylabel(\"Kilometers\", fontsize=16)\n",
    "ax.set_title(\"Kilometers per mode in Scenario 1\", fontsize=18)\n",
    "ax.legend(fontsize=14)\n",
    "plt.show()\n"
   ]
  },
  {
   "cell_type": "code",
   "execution_count": null,
   "id": "deb18ec9",
   "metadata": {},
   "outputs": [],
   "source": []
  },
  {
   "cell_type": "code",
   "execution_count": null,
   "id": "830a84a9",
   "metadata": {},
   "outputs": [],
   "source": []
  },
  {
   "cell_type": "code",
   "execution_count": null,
   "id": "1662ccbc",
   "metadata": {},
   "outputs": [],
   "source": []
  },
  {
   "cell_type": "code",
   "execution_count": null,
   "id": "5188f95b",
   "metadata": {},
   "outputs": [],
   "source": []
  },
  {
   "cell_type": "code",
   "execution_count": 4,
   "id": "3a856916",
   "metadata": {},
   "outputs": [
    {
     "name": "stdout",
     "output_type": "stream",
     "text": [
      "{'MoD': ['-2', '+2', '+1', '0', '0', '0', '0', '0'], 'Car': ['-2', '+2', '+1', '0', '0', '0', '0', '0'], 'Bike': ['-2', '+2', '+1', '0', '0', '0', '0', '0'], 'Walk': ['-2', '+2', '+1', '0', '0', '0', '0', '0'], 'MM': ['0', '0', '0', '0', '0', '0', '0', '0'], 'PT-MoD': ['0', '0', '0', '0', '0', '0', '0', '0'], 'PT-Bike': ['0', '0', '0', '0', '0', '0', '0', '0'], 'PT-Walk': ['0', '0', '0', '0', '0', '0', '0', '0'], 'PT-MM': ['0', '0', '0', '0', '0', '0', '0', '0'], 'MoD-Walk': ['0', '0', '0', '0', '0', '0', '0', '0'], 'MoD-MM': ['0', '0', '0', '0', '0', '0', '0', '0'], 'Car-Walk': ['0', '0', '0', '0', '0', '0', '0', '0'], 'MM-Walk': ['0', '0', '0', '0', '0', '0', '0', '0']}\n"
     ]
    }
   ],
   "source": [
    "interv_impact = {\n",
    "        'MoD': ['-2','+2','+1','0','0','0','0','0'],\n",
    "        'Car': ['-2','+2','+1','0','0','0','0','0'],\n",
    "        'Bike': ['-2','+2','+1','0','0','0','0','0'],\n",
    "        'Walk': ['-2','+2','+1','0','0','0','0','0'],\n",
    "        'MM': ['0','0','0','0','0','0','0','0'],\n",
    "        'PT-MoD': ['0','0','0','0','0','0','0','0'],\n",
    "        'PT-Bike': ['0','0','0','0','0','0','0','0'],\n",
    "        'PT-Walk': ['0','0','0','0','0','0','0','0'],\n",
    "        'PT-MM': ['0','0','0','0','0','0','0','0'],\n",
    "        'MoD-Walk': ['0','0','0','0','0','0','0','0'],\n",
    "        'MoD-MM': ['0','0','0','0','0','0','0','0'],\n",
    "        'Car-Walk': ['0','0','0','0','0','0','0','0'],\n",
    "        'MM-Walk': ['0','0','0','0','0','0','0','0'],\n",
    "}\n",
    "print(interv_impact)"
   ]
  },
  {
   "cell_type": "code",
   "execution_count": 6,
   "id": "bc2b9420",
   "metadata": {},
   "outputs": [
    {
     "ename": "AttributeError",
     "evalue": "'dict' object has no attribute 'info'",
     "output_type": "error",
     "traceback": [
      "\u001b[0;31m---------------------------------------------------------------------------\u001b[0m",
      "\u001b[0;31mAttributeError\u001b[0m                            Traceback (most recent call last)",
      "Input \u001b[0;32mIn [6]\u001b[0m, in \u001b[0;36m<cell line: 1>\u001b[0;34m()\u001b[0m\n\u001b[0;32m----> 1\u001b[0m \u001b[43minterv_impact\u001b[49m\u001b[38;5;241;43m.\u001b[39;49m\u001b[43minfo\u001b[49m()\n",
      "\u001b[0;31mAttributeError\u001b[0m: 'dict' object has no attribute 'info'"
     ]
    }
   ],
   "source": [
    "interv_impact.info()"
   ]
  },
  {
   "cell_type": "code",
   "execution_count": 7,
   "id": "0752c62a",
   "metadata": {},
   "outputs": [
    {
     "ename": "SyntaxError",
     "evalue": "invalid syntax (1773218033.py, line 17)",
     "output_type": "error",
     "traceback": [
      "\u001b[0;36m  Input \u001b[0;32mIn [7]\u001b[0;36m\u001b[0m\n\u001b[0;31m    'MoD': ['-2','+2','+1','0','0','0','0','0'],\u001b[0m\n\u001b[0m         ^\u001b[0m\n\u001b[0;31mSyntaxError\u001b[0m\u001b[0;31m:\u001b[0m invalid syntax\n"
     ]
    }
   ],
   "source": [
    "interv_impact = {0:\n",
    "        {\n",
    "        'MoD': ['-2','+2','+1','0','0','0','0','0'],\n",
    "        'Car': ['-2','+2','+1','0','0','0','0','0'],\n",
    "        'Bike': ['-2','+2','+1','0','0','0','0','0'],\n",
    "        'Walk': ['-2','+2','+1','0','0','0','0','0'],\n",
    "        'MM': ['0','0','0','0','0','0','0','0'],\n",
    "        'PT-MoD': ['0','0','0','0','0','0','0','0'],\n",
    "        'PT-Bike': ['0','0','0','0','0','0','0','0'],\n",
    "        'PT-Walk': ['0','0','0','0','0','0','0','0'],\n",
    "        'PT-MM': ['0','0','0','0','0','0','0','0'],\n",
    "        'MoD-Walk': ['0','0','0','0','0','0','0','0'],\n",
    "        'MoD-MM': ['0','0','0','0','0','0','0','0'],\n",
    "        'Car-Walk': ['0','0','0','0','0','0','0','0'],\n",
    "        'MM-Walk': ['0','0','0','0','0','0','0','0'],\n",
    "        },{1:\n",
    "        {\n",
    "        'MoD': ['-2','+2','+1','0','0','0','0','0'],\n",
    "        'Car': ['-2','+2','+1','0','0','0','0','0'],\n",
    "        'Bike': ['-2','+2','+1','0','0','0','0','0'],\n",
    "        'Walk': ['-2','+2','+1','0','0','0','0','0'],\n",
    "        'MM': ['0','0','0','0','0','0','0','0'],\n",
    "        'PT-MoD': ['0','0','0','0','0','0','0','0'],\n",
    "        'PT-Bike': ['0','0','0','0','0','0','0','0'],\n",
    "        'PT-Walk': ['0','0','0','0','0','0','0','0'],\n",
    "        'PT-MM': ['0','0','0','0','0','0','0','0'],\n",
    "        'MoD-Walk': ['0','0','0','0','0','0','0','0'],\n",
    "        'MoD-MM': ['0','0','0','0','0','0','0','0'],\n",
    "        'Car-Walk': ['0','0','0','0','0','0','0','0'],\n",
    "        'MM-Walk': ['0','0','0','0','0','0','0','0'],\n",
    "        }}"
   ]
  },
  {
   "cell_type": "code",
   "execution_count": null,
   "id": "95246ae2",
   "metadata": {},
   "outputs": [],
   "source": []
  },
  {
   "cell_type": "code",
   "execution_count": null,
   "id": "89f25dce",
   "metadata": {},
   "outputs": [],
   "source": []
  },
  {
   "cell_type": "code",
   "execution_count": null,
   "id": "97ecbcdb",
   "metadata": {},
   "outputs": [],
   "source": []
  },
  {
   "cell_type": "code",
   "execution_count": null,
   "id": "182df234",
   "metadata": {},
   "outputs": [],
   "source": []
  }
 ],
 "metadata": {
  "kernelspec": {
   "display_name": "Python 3 (ipykernel)",
   "language": "python",
   "name": "python3"
  },
  "language_info": {
   "codemirror_mode": {
    "name": "ipython",
    "version": 3
   },
   "file_extension": ".py",
   "mimetype": "text/x-python",
   "name": "python",
   "nbconvert_exporter": "python",
   "pygments_lexer": "ipython3",
   "version": "3.9.13"
  }
 },
 "nbformat": 4,
 "nbformat_minor": 5
}
